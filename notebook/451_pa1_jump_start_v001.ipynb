{
  "cells": [
    {
      "cell_type": "markdown",
      "metadata": {
        "id": "G7XpICfcQfCn"
      },
      "source": [
        "<h2><font color='#306998'><center>451 Financial Engineering: Programming Assignment 1</center></font></h2>\n",
        "<h3><center>Thomas W. Miller, June 18, 2025</center></h3>\n",
        "---"
      ]
    },
    {
      "cell_type": "markdown",
      "metadata": {
        "id": "Gh5r6zYsQfCo"
      },
      "source": [
        "## Overview\n",
        "We use machine learing classifiers, including tree-based ensemble boosting methods, to predict the direction of oil futures (up or down) using a number of lagged price features. In particular, we look at daily closing spot prices for [West Texas Intermediate (ticker WTI)](https://en.wikipedia.org/wiki/West_Texas_Intermediate) with lags of one to seven days, as well as features based on opening, closing, high, and low price points, and daily trading volume.\n",
        "\n",
        "A model for predicting the direction of daily returns sets the stage for testing the predictive utility of additional features. The domain of potential features or leading indicators is wide, including those associated with other price series, economic indicators, international events, securities filings, analyst and news reports, and media measures."
      ]
    },
    {
      "cell_type": "markdown",
      "metadata": {
        "tags": [],
        "id": "MJS9sFJMQfCo"
      },
      "source": [
        "### Import Libraries\n",
        "We draw on Python packages for data manipulation and modeling. Most important are Polars, a high-performance alternative to Pandas for data manipulation, and Scikit-Learn for machine learning study design and modeling algorithms."
      ]
    },
    {
      "cell_type": "code",
      "execution_count": 1,
      "metadata": {
        "scrolled": true,
        "colab": {
          "base_uri": "https://localhost:8080/"
        },
        "id": "0UNUO-IzQfCo",
        "outputId": "ec23b007-133d-44ef-e289-e19b901e5d2d"
      },
      "outputs": [
        {
          "output_type": "stream",
          "name": "stdout",
          "text": [
            "Requirement already satisfied: polars in /usr/local/lib/python3.11/dist-packages (1.21.0)\n",
            "Requirement already satisfied: xgboost in /usr/local/lib/python3.11/dist-packages (2.1.4)\n",
            "Requirement already satisfied: numpy in /usr/local/lib/python3.11/dist-packages (from xgboost) (2.0.2)\n",
            "Requirement already satisfied: nvidia-nccl-cu12 in /usr/local/lib/python3.11/dist-packages (from xgboost) (2.21.5)\n",
            "Requirement already satisfied: scipy in /usr/local/lib/python3.11/dist-packages (from xgboost) (1.15.3)\n",
            "Requirement already satisfied: yfinance in /usr/local/lib/python3.11/dist-packages (0.2.65)\n",
            "Requirement already satisfied: pandas>=1.3.0 in /usr/local/lib/python3.11/dist-packages (from yfinance) (2.2.2)\n",
            "Requirement already satisfied: numpy>=1.16.5 in /usr/local/lib/python3.11/dist-packages (from yfinance) (2.0.2)\n",
            "Requirement already satisfied: requests>=2.31 in /usr/local/lib/python3.11/dist-packages (from yfinance) (2.32.3)\n",
            "Requirement already satisfied: multitasking>=0.0.7 in /usr/local/lib/python3.11/dist-packages (from yfinance) (0.0.11)\n",
            "Requirement already satisfied: platformdirs>=2.0.0 in /usr/local/lib/python3.11/dist-packages (from yfinance) (4.3.8)\n",
            "Requirement already satisfied: pytz>=2022.5 in /usr/local/lib/python3.11/dist-packages (from yfinance) (2025.2)\n",
            "Requirement already satisfied: frozendict>=2.3.4 in /usr/local/lib/python3.11/dist-packages (from yfinance) (2.4.6)\n",
            "Requirement already satisfied: peewee>=3.16.2 in /usr/local/lib/python3.11/dist-packages (from yfinance) (3.18.2)\n",
            "Requirement already satisfied: beautifulsoup4>=4.11.1 in /usr/local/lib/python3.11/dist-packages (from yfinance) (4.13.4)\n",
            "Requirement already satisfied: curl_cffi>=0.7 in /usr/local/lib/python3.11/dist-packages (from yfinance) (0.11.4)\n",
            "Requirement already satisfied: protobuf>=3.19.0 in /usr/local/lib/python3.11/dist-packages (from yfinance) (5.29.5)\n",
            "Requirement already satisfied: websockets>=13.0 in /usr/local/lib/python3.11/dist-packages (from yfinance) (15.0.1)\n",
            "Requirement already satisfied: soupsieve>1.2 in /usr/local/lib/python3.11/dist-packages (from beautifulsoup4>=4.11.1->yfinance) (2.7)\n",
            "Requirement already satisfied: typing-extensions>=4.0.0 in /usr/local/lib/python3.11/dist-packages (from beautifulsoup4>=4.11.1->yfinance) (4.14.1)\n",
            "Requirement already satisfied: cffi>=1.12.0 in /usr/local/lib/python3.11/dist-packages (from curl_cffi>=0.7->yfinance) (1.17.1)\n",
            "Requirement already satisfied: certifi>=2024.2.2 in /usr/local/lib/python3.11/dist-packages (from curl_cffi>=0.7->yfinance) (2025.7.9)\n",
            "Requirement already satisfied: python-dateutil>=2.8.2 in /usr/local/lib/python3.11/dist-packages (from pandas>=1.3.0->yfinance) (2.9.0.post0)\n",
            "Requirement already satisfied: tzdata>=2022.7 in /usr/local/lib/python3.11/dist-packages (from pandas>=1.3.0->yfinance) (2025.2)\n",
            "Requirement already satisfied: charset-normalizer<4,>=2 in /usr/local/lib/python3.11/dist-packages (from requests>=2.31->yfinance) (3.4.2)\n",
            "Requirement already satisfied: idna<4,>=2.5 in /usr/local/lib/python3.11/dist-packages (from requests>=2.31->yfinance) (3.10)\n",
            "Requirement already satisfied: urllib3<3,>=1.21.1 in /usr/local/lib/python3.11/dist-packages (from requests>=2.31->yfinance) (2.4.0)\n",
            "Requirement already satisfied: pycparser in /usr/local/lib/python3.11/dist-packages (from cffi>=1.12.0->curl_cffi>=0.7->yfinance) (2.22)\n",
            "Requirement already satisfied: six>=1.5 in /usr/local/lib/python3.11/dist-packages (from python-dateutil>=2.8.2->pandas>=1.3.0->yfinance) (1.17.0)\n"
          ]
        }
      ],
      "source": [
        "!pip install polars\n",
        "!pip install xgboost\n",
        "!pip install yfinance\n",
        "import os\n",
        "# Ignore warnings\n",
        "import warnings\n",
        "warnings.filterwarnings('ignore')\n",
        "warnings.simplefilter(action='ignore', category=FutureWarning)\n",
        "\n",
        "# Import Python Packages for data manipulation, data pipelines, and databases\n",
        "import numpy as np\n",
        "import pyarrow # foundation for polars\n",
        "import polars as pl # DataFrame work superior to Pandas\n",
        "\n",
        "# Plotting\n",
        "import matplotlib.pyplot as plt\n",
        "# Display static plots directly in the notebook output\n",
        "%matplotlib inline\n",
        "# create stylized visualizations, including heat maps\n",
        "import seaborn as sns\n",
        "\n",
        "# Preprocessing\n",
        "from sklearn.preprocessing import MinMaxScaler, StandardScaler\n",
        "from sklearn.pipeline import Pipeline\n",
        "from sklearn.model_selection import (RandomizedSearchCV,\n",
        "                                    TimeSeriesSplit)\n",
        "from sklearn.model_selection import cross_validate\n",
        "\n",
        "# utilized in all possible subsets classification work\n",
        "from sklearn.linear_model import LogisticRegression\n",
        "from sklearn.metrics import log_loss\n",
        "\n",
        "# needed for randomized search\n",
        "from sklearn.model_selection import RandomizedSearchCV\n",
        "from scipy.stats import randint, uniform\n",
        "\n",
        "# metrics in xgboost tuning and final model evaluation\n",
        "from sklearn.metrics import (accuracy_score,\n",
        "                             classification_report,\n",
        "                             roc_curve,\n",
        "                             roc_auc_score,\n",
        "                             RocCurveDisplay,\n",
        "                             ConfusionMatrixDisplay,\n",
        "                             confusion_matrix,\n",
        "                             precision_score,\n",
        "                             recall_score,\n",
        "                             f1_score\n",
        "                            )\n",
        "\n",
        "# XGBoost Package... more complete than SciKit-Learn boosting methods\n",
        "import xgboost as xgb\n",
        "from xgboost import XGBRegressor, XGBClassifier, plot_importance\n",
        "\n",
        "# import yfinance as yf  # used earlier to obtain the price series\n",
        "import yfinance as yf\n",
        "\n",
        "import warnings\n",
        "# Suppress warnings for cleaner output\n",
        "warnings.filterwarnings('ignore')"
      ]
    },
    {
      "cell_type": "markdown",
      "metadata": {
        "id": "b-AL3I3LQfCp"
      },
      "source": [
        "### Retrieve Data\n",
        "In previous work, we retrieved price data for WTI from Yahoo Finance. The code is shown in the next commented-out cell."
      ]
    },
    {
      "cell_type": "code",
      "execution_count": 2,
      "metadata": {
        "colab": {
          "base_uri": "https://localhost:8080/"
        },
        "id": "d1pwMkCKQfCp",
        "outputId": "7fec9522-7849-4abc-d1fc-301712a627b3"
      },
      "outputs": [
        {
          "output_type": "stream",
          "name": "stdout",
          "text": [
            "                                Open       High        Low      Close  \\\n",
            "Date                                                                    \n",
            "2005-01-28 00:00:00-05:00  14.213650  14.432321  13.484745  13.484745   \n",
            "2005-01-31 00:00:00-05:00  13.484742  13.550344  12.755837  13.266071   \n",
            "2005-02-01 00:00:00-05:00  13.266073  13.411854  13.178604  13.273361   \n",
            "2005-02-02 00:00:00-05:00  13.302518  13.411854  13.258784  13.273361   \n",
            "2005-02-03 00:00:00-05:00  13.302521  13.375412  13.287942  13.302521   \n",
            "...                              ...        ...        ...        ...   \n",
            "2025-05-19 00:00:00-04:00   1.420138   1.449931   1.400276   1.440000   \n",
            "2025-05-20 00:00:00-04:00   1.440000   1.460000   1.420000   1.450000   \n",
            "2025-05-21 00:00:00-04:00   1.460000   1.460000   1.390000   1.400000   \n",
            "2025-05-22 00:00:00-04:00   1.380000   1.390000   1.340000   1.380000   \n",
            "2025-05-23 00:00:00-04:00   1.360000   1.390000   1.360000   1.390000   \n",
            "\n",
            "                            Volume  Dividends  Stock Splits  \n",
            "Date                                                         \n",
            "2005-01-28 00:00:00-05:00  9813500       0.00           0.0  \n",
            "2005-01-31 00:00:00-05:00  1776800       0.00           0.0  \n",
            "2005-02-01 00:00:00-05:00   656500       0.00           0.0  \n",
            "2005-02-02 00:00:00-05:00   265300       0.00           0.0  \n",
            "2005-02-03 00:00:00-05:00   303200       0.00           0.0  \n",
            "...                            ...        ...           ...  \n",
            "2025-05-19 00:00:00-04:00   750800       0.00           0.0  \n",
            "2025-05-20 00:00:00-04:00   644400       0.01           0.0  \n",
            "2025-05-21 00:00:00-04:00  1523400       0.00           0.0  \n",
            "2025-05-22 00:00:00-04:00   980600       0.00           0.0  \n",
            "2025-05-23 00:00:00-04:00  1279800       0.00           0.0  \n",
            "\n",
            "[5113 rows x 7 columns]\n",
            "type of historical_data <class 'pandas.core.frame.DataFrame'>\n"
          ]
        }
      ],
      "source": [
        "#Previous work to retrieve data from Yahoo Finance\n",
        "\n",
        "symbol = 'WTI'\n",
        "start_date = '2000-01-01'\n",
        "end_date = '2025-05-27'\n",
        "\n",
        "symbol = 'WTI'\n",
        "ticker = yf.Ticker(symbol)\n",
        "historical_data = ticker.history(start = start_date, end = end_date)\n",
        "print(historical_data)\n",
        "\n",
        "print(\"type of historical_data\", type(historical_data))\n",
        "\n",
        "historical_data.to_csv(\"451_pa1_wti_historical_data.csv\")\n"
      ]
    },
    {
      "cell_type": "markdown",
      "metadata": {
        "id": "938_VczoQfCp"
      },
      "source": [
        "### Polars DataFrame Development\n",
        "The following code cell demonstrates Polars use with the time series DataFrame for our selected market/ticker, WTI."
      ]
    },
    {
      "cell_type": "code",
      "execution_count": 3,
      "metadata": {
        "colab": {
          "base_uri": "https://localhost:8080/"
        },
        "id": "G5auANUTQfCp",
        "outputId": "5d3bf5da-7961-46db-af61-5c86b8b6e9bf"
      },
      "outputs": [
        {
          "output_type": "stream",
          "name": "stdout",
          "text": [
            "Schema([('Date', Datetime(time_unit='us', time_zone='UTC')), ('Open', Float64), ('High', Float64), ('Low', Float64), ('Close', Float64), ('Volume', Int64), ('Dividends', Float64), ('Stock Splits', Float64)])\n",
            "Schema([('Date', Datetime(time_unit='us', time_zone='UTC')), ('Open', Float64), ('High', Float64), ('Low', Float64), ('Close', Float64), ('Volume', Float64), ('Stock Splits', Float64), ('CloseLag1', Float64), ('CloseLag2', Float64), ('CloseLag3', Float64), ('HML', Float64), ('HMLLag1', Float64), ('HMLLag2', Float64), ('HMLLag3', Float64), ('OMC', Float64), ('OMCLag1', Float64), ('OMCLag2', Float64), ('OMCLag3', Float64), ('VolumeLag1', Float64), ('VolumeLag2', Float64), ('VolumeLag3', Float64), ('CloseEMA2', Float64), ('CloseEMA4', Float64), ('CloseEMA8', Float64), ('LogReturn', Float64), ('Target', Int32)])\n"
          ]
        }
      ],
      "source": [
        "wti = pl.read_csv(\"451_pa1_wti_historical_data.csv\", try_parse_dates=True)\n",
        "\n",
        "# check the original schema\n",
        "print(wti.schema)\n",
        "\n",
        "# drop useless columns Dividends and StockSplits\n",
        "wti = wti.drop(['Dividends'])\n",
        "\n",
        "# create lag price features\n",
        "wti = wti.with_columns((pl.col('Close')).shift().alias('CloseLag1'))\n",
        "wti = wti.with_columns((pl.col('CloseLag1')).shift().alias('CloseLag2'))\n",
        "wti = wti.with_columns((pl.col('CloseLag2')).shift().alias('CloseLag3'))\n",
        "\n",
        "# create high-minus-low (HML) for day and its lags\n",
        "wti = wti.with_columns((pl.col('High') - pl.col('Low')).alias('HML'))\n",
        "wti = wti.with_columns((pl.col('HML')).shift().alias('HMLLag1'))\n",
        "wti = wti.with_columns((pl.col('HMLLag1')).shift().alias('HMLLag2'))\n",
        "wti = wti.with_columns((pl.col('HMLLag2')).shift().alias('HMLLag3'))\n",
        "\n",
        "# create a net change for the day as the open minus closing price OMC\n",
        "# also create the corresponding lag metrics\n",
        "wti = wti.with_columns((pl.col('Open') - pl.col('Close')).alias('OMC'))\n",
        "wti = wti.with_columns((pl.col('OMC')).shift().alias('OMCLag1'))\n",
        "wti = wti.with_columns((pl.col('OMCLag1')).shift().alias('OMCLag2'))\n",
        "wti = wti.with_columns((pl.col('OMCLag2')).shift().alias('OMCLag3'))\n",
        "\n",
        "# create volume lag metrics\n",
        "wti = wti.with_columns((pl.col('Volume')).shift().alias('VolumeLag1'))\n",
        "wti = wti.with_columns((pl.col('VolumeLag1')).shift().alias('VolumeLag2'))\n",
        "wti = wti.with_columns((pl.col('VolumeLag2')).shift().alias('VolumeLag3'))\n",
        "\n",
        "# compute 10-day exponential moving averages of closing prices\n",
        "# compute acround CloseLag1 to avoid any \"leakage\" in explanatory variable set\n",
        "# note also the 10-day buffer between train and test in time-series cross-validation\n",
        "wti = wti.with_columns((pl.col('CloseLag1').ewm_mean(half_life=1,ignore_nulls=True)).alias('CloseEMA2'))\n",
        "wti = wti.with_columns((pl.col('CloseLag1').ewm_mean(half_life=2,ignore_nulls=True)).alias('CloseEMA4'))\n",
        "wti = wti.with_columns((pl.col('CloseLag1').ewm_mean(half_life=4,ignore_nulls=True)).alias('CloseEMA8'))\n",
        "\n",
        "# log daily returns\n",
        "wti = wti.with_columns(np.log(pl.col('Close')/pl.col('CloseLag1')).alias('LogReturn'))\n",
        "\n",
        "# set volume features to Float64 for subsequent use in Numpy arrays\n",
        "wti = wti.with_columns(\n",
        "    pl.col('Volume').cast(pl.Float64).round(0),\n",
        "    pl.col('VolumeLag1').cast(pl.Float64).round(0),\n",
        "    pl.col('VolumeLag2').cast(pl.Float64).round(0),\n",
        "    pl.col('VolumeLag3').cast(pl.Float64).round(0),\n",
        "    )\n",
        "\n",
        "# round other features to three decimal places for reporting and subsequent analytics\n",
        "wti = wti.with_columns(\n",
        "    pl.col('Open').round(3),\n",
        "    pl.col('High').round(3),\n",
        "    pl.col('Low').round(3),\n",
        "    pl.col('Close').round(3),\n",
        "    pl.col('CloseLag1').round(3),\n",
        "    pl.col('CloseLag2').round(3),\n",
        "    pl.col('CloseLag3').round(3),\n",
        "    pl.col('HML').round(3),\n",
        "    pl.col('HMLLag1').round(3),\n",
        "    pl.col('HMLLag2').round(3),\n",
        "    pl.col('HMLLag3').round(3),\n",
        "    pl.col('OMC').round(3),\n",
        "    pl.col('OMCLag1').round(3),\n",
        "    pl.col('OMCLag2').round(3),\n",
        "    pl.col('OMCLag3').round(3),\n",
        "    pl.col('CloseEMA2').round(3),\n",
        "    pl.col('CloseEMA4').round(3),\n",
        "    pl.col('CloseEMA8').round(3))\n",
        "\n",
        "# define binary target/response 1 = market price up since previous day, 0 = even or down\n",
        "wti = wti.with_columns(pl.when(pl.col('LogReturn')>0.0).then(pl.lit(1)).otherwise(pl.lit(0)).alias('Target'))\n",
        "\n",
        "print(wti.schema)\n",
        "\n",
        "# save to external comma-delimited text file for checking calculations in Excel\n",
        "wti.write_csv(\"wti-with-computed-features.csv\")"
      ]
    },
    {
      "cell_type": "markdown",
      "metadata": {
        "id": "1gHNwEGFQfCq"
      },
      "source": [
        "### Descriptive Statistics for Price Features"
      ]
    },
    {
      "cell_type": "code",
      "execution_count": 4,
      "metadata": {
        "colab": {
          "base_uri": "https://localhost:8080/"
        },
        "id": "oAKCgJLdQfCq",
        "outputId": "df077479-9d19-4274-e065-237918a4e3dd"
      },
      "outputs": [
        {
          "output_type": "stream",
          "name": "stdout",
          "text": [
            "['statistic', 'Open', 'High', 'Low', 'Close', 'Volume', 'Stock Splits', 'CloseLag1', 'CloseLag2', 'CloseLag3', 'HML', 'HMLLag1', 'HMLLag2', 'HMLLag3', 'OMC', 'OMCLag1', 'OMCLag2', 'OMCLag3', 'VolumeLag1', 'VolumeLag2', 'VolumeLag3', 'CloseEMA2', 'CloseEMA4', 'CloseEMA8', 'LogReturn', 'Target']\n",
            "Schema([('column', String), ('column_0', String), ('column_2', String), ('column_3', String), ('column_4', String), ('column_6', String), ('column_8', String)])\n",
            "┌──────────────┬──────────┬─────────────────────────┬─────────────────────┬──────────────────────┬───────────┬─────────────────────┐\n",
            "│ column       ┆ column_0 ┆ column_2                ┆ column_3            ┆ column_4             ┆ column_6  ┆ column_8            │\n",
            "╞══════════════╪══════════╪═════════════════════════╪═════════════════════╪══════════════════════╪═══════════╪═════════════════════╡\n",
            "│ statistic    ┆ count    ┆ mean                    ┆ std                 ┆ min                  ┆ 50%       ┆ max                 │\n",
            "│ Open         ┆ 5110.0   ┆ 10.040450293542074      ┆ 8.292770281589434   ┆ 1.111                ┆ 6.727     ┆ 44.857              │\n",
            "│ High         ┆ 5110.0   ┆ 10.260382191780822      ┆ 8.439612468973861   ┆ 1.152                ┆ 6.911     ┆ 44.887              │\n",
            "│ Low          ┆ 5110.0   ┆ 9.795222113502936       ┆ 8.11630065950967    ┆ 1.034                ┆ 6.527     ┆ 43.488              │\n",
            "│ Close        ┆ 5110.0   ┆ 10.02318904109589       ┆ 8.277435011512642   ┆ 1.054                ┆ 6.713     ┆ 44.43               │\n",
            "│ Volume       ┆ 5110.0   ┆ 1742205.4207436398      ┆ 1827474.7018611296  ┆ 34700.0              ┆ 1170300.0 ┆ 40429700.0          │\n",
            "│ Stock Splits ┆ 5110.0   ┆ 0.0                     ┆ 0.0                 ┆ 0.0                  ┆ 0.0       ┆ 0.0                 │\n",
            "│ CloseLag1    ┆ 5110.0   ┆ 10.025514481409003      ┆ 8.27667830632213    ┆ 1.054                ┆ 6.715     ┆ 44.43               │\n",
            "│ CloseLag2    ┆ 5110.0   ┆ 10.02784050880626       ┆ 8.275918297604616   ┆ 1.054                ┆ 6.715     ┆ 44.43               │\n",
            "│ CloseLag3    ┆ 5110.0   ┆ 10.030205479452054      ┆ 8.275178981272708   ┆ 1.054                ┆ 6.717     ┆ 44.43               │\n",
            "│ HML          ┆ 5110.0   ┆ 0.4651784735812134      ┆ 0.4421164553778703  ┆ 0.029                ┆ 0.338     ┆ 4.153               │\n",
            "│ HMLLag1      ┆ 5110.0   ┆ 0.46521819960861055     ┆ 0.44208646428939125 ┆ 0.029                ┆ 0.338     ┆ 4.153               │\n",
            "│ HMLLag2      ┆ 5110.0   ┆ 0.4653639921722114      ┆ 0.4420723495295172  ┆ 0.029                ┆ 0.338     ┆ 4.153               │\n",
            "│ HMLLag3      ┆ 5110.0   ┆ 0.4655358121330724      ┆ 0.4420892791054943  ┆ 0.029                ┆ 0.338     ┆ 4.153               │\n",
            "│ OMC          ┆ 5110.0   ┆ 0.01725283757338552     ┆ 0.3842862668457601  ┆ -3.241               ┆ 0.01      ┆ 3.726               │\n",
            "│ OMCLag1      ┆ 5110.0   ┆ 0.017257338551859104    ┆ 0.38428584797971366 ┆ -3.241               ┆ 0.01      ┆ 3.726               │\n",
            "│ OMCLag2      ┆ 5110.0   ┆ 0.017300195694716258    ┆ 0.3842961347474076  ┆ -3.241               ┆ 0.01      ┆ 3.726               │\n",
            "│ OMCLag3      ┆ 5110.0   ┆ 0.017431115459882573    ┆ 0.38442461834511965 ┆ -3.241               ┆ 0.01      ┆ 3.726               │\n",
            "│ VolumeLag1   ┆ 5110.0   ┆ 1742083.4442270058      ┆ 1827526.3722283014  ┆ 34700.0              ┆ 1170000.0 ┆ 40429700.0          │\n",
            "│ VolumeLag2   ┆ 5110.0   ┆ 1742239.2563600782      ┆ 1827495.3777353298  ┆ 34700.0              ┆ 1170300.0 ┆ 40429700.0          │\n",
            "│ VolumeLag3   ┆ 5110.0   ┆ 1743861.5851272016      ┆ 1830977.4509623281  ┆ 34700.0              ┆ 1170300.0 ┆ 40429700.0          │\n",
            "│ CloseEMA2    ┆ 5110.0   ┆ 10.027854403131116      ┆ 8.268264492982206   ┆ 1.118                ┆ 6.754     ┆ 43.686              │\n",
            "│ CloseEMA4    ┆ 5110.0   ┆ 10.031154990215262      ┆ 8.258446612007841   ┆ 1.143                ┆ 6.739     ┆ 43.27               │\n",
            "│ CloseEMA8    ┆ 5110.0   ┆ 10.037943248532288      ┆ 8.238483458628174   ┆ 1.164                ┆ 6.769     ┆ 42.946              │\n",
            "│ LogReturn    ┆ 5110.0   ┆ -0.00044157639393703523 ┆ 0.04175876851841967 ┆ -0.26447903352943625 ┆ 0.0       ┆ 0.34881810336883373 │\n",
            "│ Target       ┆ 5110.0   ┆ 0.47788649706457925     ┆ 0.4995596366082291  ┆ 0.0                  ┆ 0.0       ┆ 1.0                 │\n",
            "└──────────────┴──────────┴─────────────────────────┴─────────────────────┴──────────────────────┴───────────┴─────────────────────┘\n"
          ]
        }
      ],
      "source": [
        "# Drop the rows with null values such as the initial lag rows\n",
        "wti = wti.drop_nulls()\n",
        "\n",
        "# Descriptive statistics\n",
        "wtiStatistics = wti.drop('Date').describe()\n",
        "\n",
        "print(wtiStatistics.columns)\n",
        "\n",
        "wtiStatisticsToPrint = wtiStatistics.transpose(include_header=True).drop(['column_1', 'column_5', 'column_7'])\n",
        "\n",
        "print(wtiStatisticsToPrint.schema)\n",
        "\n",
        "with pl.Config(\n",
        "    tbl_rows = 60,\n",
        "    tbl_width_chars = 200,\n",
        "    tbl_cols = -1,\n",
        "    float_precision = 3,\n",
        "    tbl_hide_dataframe_shape = True,\n",
        "    tbl_hide_column_data_types = True):\n",
        "    print(wtiStatisticsToPrint)\n",
        "\n"
      ]
    },
    {
      "cell_type": "markdown",
      "metadata": {
        "id": "DFwspwDIQfCq"
      },
      "source": [
        "### Feature List\n",
        "Features or explanatory variables, also known as an independent variables, are used to predict the values of target variables. The initial list of featrues includes the price-based features defined above, everything except the continuous response **LogReturn** if we wanted to employ regression and the binary response **Target** for classification, which is the focus of this project. This complete feature list is used in evaluating all methods."
      ]
    },
    {
      "cell_type": "code",
      "execution_count": 5,
      "metadata": {
        "colab": {
          "base_uri": "https://localhost:8080/",
          "height": 292
        },
        "id": "T5IlpkoWQfCq",
        "outputId": "f0416482-2dcd-4c35-a03c-4c71d23e741a"
      },
      "outputs": [
        {
          "output_type": "execute_result",
          "data": {
            "text/plain": [
              "shape: (5, 16)\n",
              "┌───────────┬───────────┬───────────┬───────────┬───┬───────────┬───────────┬───────────┬──────────┐\n",
              "│ Stock     ┆ CloseLag1 ┆ CloseLag2 ┆ CloseLag3 ┆ … ┆ VolumeLag ┆ CloseEMA2 ┆ CloseEMA4 ┆ CloseEMA │\n",
              "│ Splits    ┆ ---       ┆ ---       ┆ ---       ┆   ┆ 3         ┆ ---       ┆ ---       ┆ 8        │\n",
              "│ ---       ┆ f64       ┆ f64       ┆ f64       ┆   ┆ ---       ┆ f64       ┆ f64       ┆ ---      │\n",
              "│ f64       ┆           ┆           ┆           ┆   ┆ f64       ┆           ┆           ┆ f64      │\n",
              "╞═══════════╪═══════════╪═══════════╪═══════════╪═══╪═══════════╪═══════════╪═══════════╪══════════╡\n",
              "│ 0.0       ┆ 13.273    ┆ 13.266    ┆ 13.485    ┆ … ┆ 9.8135e6  ┆ 13.301    ┆ 13.319    ┆ 13.33    │\n",
              "│ 0.0       ┆ 13.273    ┆ 13.273    ┆ 13.266    ┆ … ┆ 1.7768e6  ┆ 13.286    ┆ 13.301    ┆ 13.312   │\n",
              "│ 0.0       ┆ 13.303    ┆ 13.273    ┆ 13.273    ┆ … ┆ 656500.0  ┆ 13.295    ┆ 13.302    ┆ 13.309   │\n",
              "│ 0.0       ┆ 13.266    ┆ 13.303    ┆ 13.273    ┆ … ┆ 265300.0  ┆ 13.28     ┆ 13.29     ┆ 13.299   │\n",
              "│ 0.0       ┆ 13.295    ┆ 13.266    ┆ 13.303    ┆ … ┆ 303200.0  ┆ 13.288    ┆ 13.291    ┆ 13.298   │\n",
              "└───────────┴───────────┴───────────┴───────────┴───┴───────────┴───────────┴───────────┴──────────┘"
            ],
            "text/html": [
              "<div><style>\n",
              ".dataframe > thead > tr,\n",
              ".dataframe > tbody > tr {\n",
              "  text-align: right;\n",
              "  white-space: pre-wrap;\n",
              "}\n",
              "</style>\n",
              "<small>shape: (5, 16)</small><table border=\"1\" class=\"dataframe\"><thead><tr><th>Stock Splits</th><th>CloseLag1</th><th>CloseLag2</th><th>CloseLag3</th><th>HMLLag1</th><th>HMLLag2</th><th>HMLLag3</th><th>OMCLag1</th><th>OMCLag2</th><th>OMCLag3</th><th>VolumeLag1</th><th>VolumeLag2</th><th>VolumeLag3</th><th>CloseEMA2</th><th>CloseEMA4</th><th>CloseEMA8</th></tr><tr><td>f64</td><td>f64</td><td>f64</td><td>f64</td><td>f64</td><td>f64</td><td>f64</td><td>f64</td><td>f64</td><td>f64</td><td>f64</td><td>f64</td><td>f64</td><td>f64</td><td>f64</td><td>f64</td></tr></thead><tbody><tr><td>0.0</td><td>13.273</td><td>13.266</td><td>13.485</td><td>0.233</td><td>0.795</td><td>0.948</td><td>-0.007</td><td>0.219</td><td>0.729</td><td>656500.0</td><td>1.7768e6</td><td>9.8135e6</td><td>13.301</td><td>13.319</td><td>13.33</td></tr><tr><td>0.0</td><td>13.273</td><td>13.273</td><td>13.266</td><td>0.153</td><td>0.233</td><td>0.795</td><td>0.029</td><td>-0.007</td><td>0.219</td><td>265300.0</td><td>656500.0</td><td>1.7768e6</td><td>13.286</td><td>13.301</td><td>13.312</td></tr><tr><td>0.0</td><td>13.303</td><td>13.273</td><td>13.273</td><td>0.087</td><td>0.153</td><td>0.233</td><td>0.0</td><td>0.029</td><td>-0.007</td><td>303200.0</td><td>265300.0</td><td>656500.0</td><td>13.295</td><td>13.302</td><td>13.309</td></tr><tr><td>0.0</td><td>13.266</td><td>13.303</td><td>13.273</td><td>0.277</td><td>0.087</td><td>0.153</td><td>0.073</td><td>0.0</td><td>0.029</td><td>361100.0</td><td>303200.0</td><td>265300.0</td><td>13.28</td><td>13.29</td><td>13.299</td></tr><tr><td>0.0</td><td>13.295</td><td>13.266</td><td>13.303</td><td>0.197</td><td>0.277</td><td>0.087</td><td>0.153</td><td>0.073</td><td>0.0</td><td>161900.0</td><td>361100.0</td><td>303200.0</td><td>13.288</td><td>13.291</td><td>13.298</td></tr></tbody></table></div>"
            ]
          },
          "metadata": {},
          "execution_count": 5
        }
      ],
      "source": [
        "# Select Features for the Model, exclude current day price variables ... no \"leakage\"\n",
        "# note for moving averages, we have excluded the current day, and provide a 10-day gap\n",
        "# so these may be included in the set\n",
        "X = wti.drop(['Date', 'LogReturn', 'Target', 'Open', 'High', 'Low', 'Close', 'Volume', 'HML', 'OMC'])\n",
        "X.head()"
      ]
    },
    {
      "cell_type": "markdown",
      "metadata": {
        "id": "DrtIIjROQfCq"
      },
      "source": [
        "### Examine the Distribution of LogReturn Values"
      ]
    },
    {
      "cell_type": "code",
      "execution_count": 6,
      "metadata": {
        "colab": {
          "base_uri": "https://localhost:8080/"
        },
        "id": "-mABlWmhQfCq",
        "outputId": "1661e4d2-eb15-4739-87fe-cb978e77dbfb"
      },
      "outputs": [
        {
          "output_type": "stream",
          "name": "stdout",
          "text": [
            "shape: (9, 2)\n",
            "┌────────────┬───────────┐\n",
            "│ statistic  ┆ value     │\n",
            "│ ---        ┆ ---       │\n",
            "│ str        ┆ f64       │\n",
            "╞════════════╪═══════════╡\n",
            "│ count      ┆ 5110.0    │\n",
            "│ null_count ┆ 0.0       │\n",
            "│ mean       ┆ -0.000442 │\n",
            "│ std        ┆ 0.041759  │\n",
            "│ min        ┆ -0.264479 │\n",
            "│ 25%        ┆ -0.021361 │\n",
            "│ 50%        ┆ 0.0       │\n",
            "│ 75%        ┆ 0.020305  │\n",
            "│ max        ┆ 0.348818  │\n",
            "└────────────┴───────────┘\n"
          ]
        }
      ],
      "source": [
        "# Define and examine the target for regression model development\n",
        "print(wti['LogReturn'].describe())\n",
        "\n",
        "y = np.array(wti['LogReturn'])\n"
      ]
    },
    {
      "cell_type": "markdown",
      "metadata": {
        "id": "NtGRfmDNQfCq"
      },
      "source": [
        "### Standardize All Features\n",
        "Standardization is carried out for the complete set of features."
      ]
    },
    {
      "cell_type": "code",
      "execution_count": 7,
      "metadata": {
        "colab": {
          "base_uri": "https://localhost:8080/"
        },
        "id": "jLEajLJTQfCq",
        "outputId": "9b71b7f9-c4e9-4bbb-8f35-50ada990ba19"
      },
      "outputs": [
        {
          "output_type": "stream",
          "name": "stdout",
          "text": [
            "Feature names correspond to Numpy array columns: ['Stock Splits', 'CloseLag1', 'CloseLag2', 'CloseLag3', 'HMLLag1', 'HMLLag2', 'HMLLag3', 'OMCLag1', 'OMCLag2', 'OMCLag3', 'VolumeLag1', 'VolumeLag2', 'VolumeLag3', 'CloseEMA2', 'CloseEMA4', 'CloseEMA8']\n"
          ]
        }
      ],
      "source": [
        "# Standardize features\n",
        "featureNames = X.columns\n",
        "print(\"Feature names correspond to Numpy array columns:\",featureNames)\n",
        "scaler = StandardScaler()\n",
        "X = scaler.fit_transform(np.array(X))"
      ]
    },
    {
      "cell_type": "markdown",
      "metadata": {
        "id": "AP-ntG15QfCq"
      },
      "source": [
        "### Target Definition for Classification (Target)\n",
        "\n",
        "Identify the binary target variable for model development."
      ]
    },
    {
      "cell_type": "code",
      "execution_count": 8,
      "metadata": {
        "colab": {
          "base_uri": "https://localhost:8080/"
        },
        "id": "443ObnTNQfCq",
        "outputId": "8f53f6ec-3943-485f-8673-3c8a0c3a4502"
      },
      "outputs": [
        {
          "output_type": "stream",
          "name": "stdout",
          "text": [
            "shape: (2, 2)\n",
            "┌────────┬───────┐\n",
            "│ Target ┆ count │\n",
            "│ ---    ┆ ---   │\n",
            "│ i32    ┆ u32   │\n",
            "╞════════╪═══════╡\n",
            "│ 1      ┆ 2442  │\n",
            "│ 0      ┆ 2668  │\n",
            "└────────┴───────┘\n"
          ]
        }
      ],
      "source": [
        "# Define and examine the target for classification model development\n",
        "print(wti['Target'].value_counts())\n",
        "\n",
        "y = np.array(wti['Target'])"
      ]
    },
    {
      "cell_type": "markdown",
      "metadata": {
        "id": "bJfyo3y2QfCr"
      },
      "source": [
        "### Feature Selection Using All Possible Classifications\n",
        "We draw on traditional applied statistis, selecting the best combination of features using the Akaike Information Criterion (AIC)."
      ]
    },
    {
      "cell_type": "code",
      "execution_count": 9,
      "metadata": {
        "id": "YYuiBV4IQfCr"
      },
      "outputs": [],
      "source": [
        "# Polars DataFrame for storing results from all possible subsets\n",
        "resultsSchema = {\"trialNumber\": pl.Int64, \"features\": pl.String, 'aic': pl.Float64}\n",
        "resultsDataFrame = pl.DataFrame(schema = resultsSchema)\n",
        "\n",
        "def getAIC(X, y):\n",
        "    model = LogisticRegression()\n",
        "    model.fit(X, y)\n",
        "    # Calculate log-likelihood\n",
        "    loglik = -log_loss(y, model.predict_proba(X)) * len(y)\n",
        "    # Calculate the number of parameters\n",
        "    k = X.shape[1] + 1\n",
        "    # Calculate AIC... smaller is better\n",
        "    aic = 2 * k -2 * loglik\n",
        "    # print(f\"AIC: {aic}\") # print for initial testing\n",
        "    return aic\n",
        "\n",
        "from itertools import chain, combinations\n",
        "\n",
        "def powerset(iterable):\n",
        "    s = list(iterable)\n",
        "    return chain.from_iterable(combinations(s, r) for r in range(1, len(s)))\n",
        "\n",
        "trialNumber = 0 # initialize count\n",
        "for c in powerset(range(X.shape[1])):\n",
        "    trialNumber = trialNumber + 1\n",
        "    # print(c)\n",
        "    thisAIC = getAIC(X[:,c], y)\n",
        "    thisTrialDataFrame = pl.DataFrame({\"trialNumber\": trialNumber,\n",
        "                                       \"features\": ' '.join(map(str, c)),\n",
        "                                       \"aic\": thisAIC},\n",
        "                                        schema=resultsSchema)\n",
        "    resultsDataFrame = pl.concat([resultsDataFrame,thisTrialDataFrame])\n",
        "\n",
        "# one more set of features... all features\n",
        "trialNumber = trialNumber + 1\n",
        "thisAIC = getAIC(X, y)\n",
        "thisTrialDataFrame = pl.DataFrame({\"trialNumber\": trialNumber,\n",
        "                                   \"features\": \"0 1 2 3 4 5 6 7 8 9 10 11 12 13 14\",\n",
        "                                   \"aic\": thisAIC},\n",
        "                                    schema=resultsSchema, strict=False)\n",
        "resultsDataFrame = pl.concat([resultsDataFrame,thisTrialDataFrame])\n"
      ]
    },
    {
      "cell_type": "code",
      "execution_count": 10,
      "metadata": {
        "colab": {
          "base_uri": "https://localhost:8080/"
        },
        "id": "hjURE88CQfCr",
        "outputId": "5dde2310-c420-42e6-b5ac-ad3e7a80b020"
      },
      "outputs": [
        {
          "output_type": "stream",
          "name": "stdout",
          "text": [
            "shape: (10, 3)\n",
            "┌─────────────┬────────────┬─────────────┐\n",
            "│ trialNumber ┆ features   ┆ aic         │\n",
            "│ ---         ┆ ---        ┆ ---         │\n",
            "│ i64         ┆ str        ┆ f64         │\n",
            "╞═════════════╪════════════╪═════════════╡\n",
            "│ 1829        ┆ 3 4 8 9    ┆ 7069.085719 │\n",
            "│ 2136        ┆ 4 8 9 15   ┆ 7069.224128 │\n",
            "│ 2135        ┆ 4 8 9 14   ┆ 7069.326882 │\n",
            "│ 5615        ┆ 3 4 5 8 9  ┆ 7069.388478 │\n",
            "│ 2134        ┆ 4 8 9 13   ┆ 7069.428968 │\n",
            "│ 6162        ┆ 4 5 8 9 15 ┆ 7069.466634 │\n",
            "│ 1609        ┆ 2 4 8 9    ┆ 7069.486229 │\n",
            "│ 4910        ┆ 2 3 4 8 9  ┆ 7069.512479 │\n",
            "│ 1323        ┆ 1 4 8 9    ┆ 7069.582069 │\n",
            "│ 1874        ┆ 3 5 8 9    ┆ 7069.608328 │\n",
            "└─────────────┴────────────┴─────────────┘\n"
          ]
        }
      ],
      "source": [
        "print(resultsDataFrame.sort('aic').head(10))"
      ]
    },
    {
      "cell_type": "markdown",
      "metadata": {
        "id": "5sV0K4DbQfCr"
      },
      "source": [
        "### Selected Feature Subset\n",
        "Reviewing the ten lowest *AIC* models, we selected five features for subsequent model development:\n",
        "- **CloseLag3** Lag-three daily closing price\n",
        "- **HMLLag1** Lag-one high minus low daily prices\n",
        "- **OMCLag2** Lag-two open minus closing daily prices\n",
        "- **OMCLag3** Lag-three open minus closing daily prices\n",
        "- **CloseEMA8** Exponential moving average across eight days"
      ]
    },
    {
      "cell_type": "code",
      "execution_count": 11,
      "metadata": {
        "colab": {
          "base_uri": "https://localhost:8080/",
          "height": 685
        },
        "id": "l4HcDV05QfCr",
        "outputId": "eea312ff-24f3-4a58-e756-87b2b5380e08"
      },
      "outputs": [
        {
          "output_type": "stream",
          "name": "stdout",
          "text": [
            "shape: (7, 7)\n",
            "┌───────────┬───────────┬───────────┬───────────┬───────────┬──────────┬───────────┐\n",
            "│ LogReturn ┆ CloseLag1 ┆ CloseLag3 ┆ HMLLag1   ┆ OMCLag2   ┆ OMCLag3  ┆ CloseEMA8 │\n",
            "│ ---       ┆ ---       ┆ ---       ┆ ---       ┆ ---       ┆ ---      ┆ ---       │\n",
            "│ f64       ┆ f64       ┆ f64       ┆ f64       ┆ f64       ┆ f64      ┆ f64       │\n",
            "╞═══════════╪═══════════╪═══════════╪═══════════╪═══════════╪══════════╪═══════════╡\n",
            "│ 1.0       ┆ -0.013159 ┆ -0.014155 ┆ -0.037433 ┆ -0.019865 ┆ 0.006021 ┆ -0.014228 │\n",
            "│ -0.013159 ┆ 1.0       ┆ 0.997218  ┆ 0.72854   ┆ 0.014211  ┆ 0.013538 ┆ 0.996525  │\n",
            "│ -0.014155 ┆ 0.997218  ┆ 1.0       ┆ 0.736395  ┆ 0.063032  ┆ 0.016907 ┆ 0.998132  │\n",
            "│ -0.037433 ┆ 0.72854   ┆ 0.736395  ┆ 1.0       ┆ 0.082006  ┆ 0.081765 ┆ 0.742735  │\n",
            "│ -0.019865 ┆ 0.014211  ┆ 0.063032  ┆ 0.082006  ┆ 1.0       ┆ 0.032507 ┆ 0.05007   │\n",
            "│ 0.006021  ┆ 0.013538  ┆ 0.016907  ┆ 0.081765  ┆ 0.032507  ┆ 1.0      ┆ 0.044395  │\n",
            "│ -0.014228 ┆ 0.996525  ┆ 0.998132  ┆ 0.742735  ┆ 0.05007   ┆ 0.044395 ┆ 1.0       │\n",
            "└───────────┴───────────┴───────────┴───────────┴───────────┴──────────┴───────────┘\n"
          ]
        },
        {
          "output_type": "display_data",
          "data": {
            "text/plain": [
              "<Figure size 640x480 with 2 Axes>"
            ],
            "image/png": "[encoded data removed]"
          },
          "metadata": {}
        }
      ],
      "source": [
        "# examine relationships among five selected features, along with LogReturn and CloseLag1\n",
        "XStudy = wti.select('LogReturn','CloseLag1','CloseLag3','HMLLag1','OMCLag2','OMCLag3','CloseEMA8')\n",
        "\n",
        "# prepare correlation heat map using seaborn\n",
        "corrMatrix = XStudy.corr()\n",
        "print(corrMatrix)\n",
        "sns.heatmap(corrMatrix, cmap='coolwarm', annot=True)\n",
        "plt.show()"
      ]
    },
    {
      "cell_type": "code",
      "execution_count": 12,
      "metadata": {
        "id": "Mth7IECEQfCr"
      },
      "outputs": [],
      "source": [
        "# select subset of five columns as features\n",
        "X = wti.select('CloseLag3','HMLLag1','OMCLag2','OMCLag3','CloseEMA8')"
      ]
    },
    {
      "cell_type": "markdown",
      "metadata": {
        "id": "sgL26mGvQfCr"
      },
      "source": [
        "### Define Cross-Validation Training and Test Sets\n",
        "Recognizing that time series observations are not independent observations, we use Scikit-Learn [TimeSeriesSplit](https://scikit-learn.org/stable/modules/generated/sklearn.model_selection.TimeSeriesSplit.html) for cross-validation.\n",
        "\n",
        "This cross-validation object is a variation of multi-fold cross-validation for independent observations. In the kth split, it returns first k folds as train set and the (k+1)th fold as test set.\n",
        "\n",
        "Unlike cross-validation for independent observations, however, successive training sets are supersets of those that come before them. A listing of observation index numbers shows what this means for the time series market data in this demonstration.\n"
      ]
    },
    {
      "cell_type": "code",
      "execution_count": 13,
      "metadata": {
        "colab": {
          "base_uri": "https://localhost:8080/"
        },
        "id": "f_xzBZ7-QfCr",
        "outputId": "69dfc796-2556-49ca-8cfd-808c86b095d1"
      },
      "outputs": [
        {
          "output_type": "stream",
          "name": "stdout",
          "text": [
            "type(all_splits): <class 'list'>  outer list length 5\n",
            "\n",
            "train_0 has 845 with indices from  0 to 844\n",
            "test_0 has 851 with indices from  855 to 1705\n",
            "\n",
            "train_1 has 1696 with indices from  0 to 1695\n",
            "test_1 has 851 with indices from  1706 to 2556\n",
            "\n",
            "train_2 has 2547 with indices from  0 to 2546\n",
            "test_2 has 851 with indices from  2557 to 3407\n",
            "\n",
            "train_3 has 3398 with indices from  0 to 3397\n",
            "test_3 has 851 with indices from  3408 to 4258\n",
            "\n",
            "train_4 has 4249 with indices from  0 to 4248\n",
            "test_4 has 851 with indices from  4259 to 5109\n"
          ]
        }
      ],
      "source": [
        "# Splitting the datasets into train and test sets\n",
        "# gap is the number of samples to exclude from\n",
        "# the end of each train set and before the next test set.\n",
        "tscv = TimeSeriesSplit(gap=10, n_splits=5)\n",
        "\n",
        "all_splits = list(tscv.split(X, y))\n",
        "train_0, test_0 = all_splits[0]\n",
        "train_1, test_1 = all_splits[1]\n",
        "train_2, test_2 = all_splits[2]\n",
        "train_3, test_3 = all_splits[3]\n",
        "train_4, test_4 = all_splits[4]\n",
        "\n",
        "# examine the objects created for cross-validation splits\n",
        "print(\"type(all_splits):\", type(all_splits), \" outer list length\", len(all_splits))\n",
        "print()\n",
        "print(\"train_0 has\",len(train_0),\"with indices from \",min(train_0),\"to\",max(train_0))\n",
        "print(\"test_0 has\",len(test_0),\"with indices from \",min(test_0),\"to\",max(test_0))\n",
        "print()\n",
        "print(\"train_1 has\",len(train_1),\"with indices from \",min(train_1),\"to\",max(train_1))\n",
        "print(\"test_1 has\",len(test_1),\"with indices from \",min(test_1),\"to\",max(test_1))\n",
        "print()\n",
        "print(\"train_2 has\",len(train_2),\"with indices from \",min(train_2),\"to\",max(train_2))\n",
        "print(\"test_2 has\",len(test_2),\"with indices from \",min(test_2),\"to\",max(test_2))\n",
        "print()\n",
        "print(\"train_3 has\",len(train_3),\"with indices from \",min(train_3),\"to\",max(train_3))\n",
        "print(\"test_3 has\",len(test_3),\"with indices from \",min(test_3),\"to\",max(test_3))\n",
        "print()\n",
        "print(\"train_4 has\",len(train_4),\"with indices from \",min(train_4),\"to\",max(train_4))\n",
        "print(\"test_4 has\",len(test_4),\"with indices from \",min(test_4),\"to\",max(test_4))\n",
        "\n",
        "# to see all indices we can uncomment these statements\n",
        "# print(\"elements of all_splits list of lists,\\n shows index numbers for each the five lists\")\n",
        "# print(all_splits)"
      ]
    },
    {
      "cell_type": "markdown",
      "metadata": {
        "id": "__-60wdVQfCr"
      },
      "source": [
        "### Define an Initial Classification Model to Be Evaluated¶\n",
        "We again select gradient boosting from the XGBoost package, this time defining a classification model to be evaluated. Hyperparameters are retained at defauld settings, except for n_estimators."
      ]
    },
    {
      "cell_type": "code",
      "execution_count": 14,
      "metadata": {
        "id": "ufokBPtqQfCr"
      },
      "outputs": [],
      "source": [
        "model = XGBClassifier(objective='binary:logistic', n_estimators=1000, random_state=2025)"
      ]
    },
    {
      "cell_type": "markdown",
      "metadata": {
        "id": "HR4RYJA0QfCr"
      },
      "source": [
        "### Evaluate a Classification Model Within the Time Series Cross-Validation Design\n",
        "Prior to executing a full-blown search for the \"best\" classification model, we test the cross-validation design on a binary classification model, revising code provided in online documentation for Scikit-Learn: [Time-related feature engineerng](https://scikit-learn.org/stable/auto_examples/applications/plot_cyclical_feature_engineering.html#sphx-glr-auto-examples-applications-plot-cyclical-feature-engineering-py). In particular, we define appropriate metrics for assessing classification performance."
      ]
    },
    {
      "cell_type": "code",
      "execution_count": 15,
      "metadata": {
        "colab": {
          "base_uri": "https://localhost:8080/"
        },
        "id": "jjApuGvPQfCr",
        "outputId": "d35e1cc6-0062-4661-b25c-404c8e15c9df"
      },
      "outputs": [
        {
          "output_type": "stream",
          "name": "stdout",
          "text": [
            "Mean model.n_estimators = 1000.0\n"
          ]
        },
        {
          "output_type": "execute_result",
          "data": {
            "text/plain": [
              "(np.float64(0.5012925969447709), np.float64(0.024967235548238462))"
            ]
          },
          "metadata": {},
          "execution_count": 15
        }
      ],
      "source": [
        "def evaluate(model, X, y, cv, model_prop=None, model_step=None):\n",
        "    cv_results = cross_validate(\n",
        "        model,\n",
        "        X,\n",
        "        y,\n",
        "        cv=cv,\n",
        "        scoring=[\"accuracy\"],\n",
        "        return_estimator=model_prop is not None,\n",
        "    )\n",
        "    if model_prop is not None:\n",
        "        if model_step is not None:\n",
        "            values = [\n",
        "                getattr(m[model_step], model_prop) for m in cv_results[\"estimator\"]\n",
        "            ]\n",
        "        else:\n",
        "            values = [getattr(m, model_prop) for m in cv_results[\"estimator\"]]\n",
        "        print(f\"Mean model.{model_prop} = {np.mean(values)}\")\n",
        "    accuracy = -cv_results[\"test_accuracy\"]\n",
        "\n",
        "    # print used in earlier testing\n",
        "    # print(\n",
        "    #    f\"Mean Accuracy:     {-accuracy.mean():.3f} +/- {accuracy.std():.3f}\\n\"\n",
        "    # )\n",
        "    return (-accuracy.mean(), accuracy.std())\n",
        "\n",
        "evaluate(model, X, y, cv=tscv, model_prop=\"n_estimators\")\n",
        "\n"
      ]
    },
    {
      "cell_type": "code",
      "execution_count": 16,
      "metadata": {
        "colab": {
          "base_uri": "https://localhost:8080/"
        },
        "id": "sV0odMmgQfCr",
        "outputId": "91aeb140-1698-483c-b02e-7a72b3a03579"
      },
      "outputs": [
        {
          "output_type": "stream",
          "name": "stdout",
          "text": [
            "Mean model.n_estimators = 1000.0\n",
            "Mean Accuracy:     0.501 +/- 0.025\n",
            "\n"
          ]
        }
      ],
      "source": [
        "# print results from evaluate\n",
        "accuracyMean, accuracyStd = evaluate(model, X, y, cv=tscv, model_prop=\"n_estimators\")\n",
        "print(\n",
        "        f\"Mean Accuracy:     {accuracyMean:.3f} +/- {accuracyStd:.3f}\\n\"\n",
        "     )"
      ]
    },
    {
      "cell_type": "markdown",
      "metadata": {
        "id": "f77iE_PrQfCr"
      },
      "source": [
        "### Randomized Search for Hyperparameter Settings\n",
        "We search for effective values on five XGBoost hyperparameters: **max_depth**, **min_child_weight**, **subsample**, **learning_rate**, and **n_estimators**."
      ]
    },
    {
      "cell_type": "code",
      "execution_count": 17,
      "metadata": {
        "colab": {
          "base_uri": "https://localhost:8080/"
        },
        "id": "YupZUyu_QfCr",
        "outputId": "608500b4-4ba6-4bed-801a-054135e5c3a1"
      },
      "outputs": [
        {
          "output_type": "stream",
          "name": "stdout",
          "text": [
            "Best parameters: {'learning_rate': np.float64(0.04436625127015083), 'max_depth': 9, 'min_child_weight': 9, 'n_estimators': 747, 'subsample': np.float64(0.5193536037194404)}\n",
            "Best score: 0.5123384253819037\n"
          ]
        }
      ],
      "source": [
        "# Randomized search to find the best set of hyperparameters\n",
        "\n",
        "param_dist = {\n",
        "    'max_depth': randint(3, 10),\n",
        "    'min_child_weight': randint(1, 10),\n",
        "    'subsample': uniform(0.5, 1),\n",
        "    'learning_rate': uniform(0.01, 0.1),\n",
        "    'n_estimators': randint(100, 1000),\n",
        "}\n",
        "xgb_model = xgb.XGBClassifier(objective='binary:logistic', use_label_encoder=False, eval_metric='logloss', random_state=2025)\n",
        "\n",
        "random_search = RandomizedSearchCV(\n",
        "    estimator=xgb_model,\n",
        "    param_distributions=param_dist,\n",
        "    n_iter=100, # Number of parameter settings that are sampled.\n",
        "    scoring='accuracy',\n",
        "    cv = TimeSeriesSplit(gap=10, n_splits=5),\n",
        "    random_state=2025,\n",
        "    n_jobs=-1 # Use all available cores\n",
        ")\n",
        "\n",
        "random_search.fit(X, y)\n",
        "\n",
        "print(\"Best parameters:\", random_search.best_params_)\n",
        "print(\"Best score:\", random_search.best_score_)"
      ]
    },
    {
      "cell_type": "markdown",
      "metadata": {
        "id": "ox5oSmAGQfCr"
      },
      "source": [
        "### Evaluate the Model\n",
        "We define define an XGBoost subset model with these hyperparameter values and evaluate on the full data set."
      ]
    },
    {
      "cell_type": "code",
      "execution_count": 18,
      "metadata": {
        "colab": {
          "base_uri": "https://localhost:8080/",
          "height": 469
        },
        "id": "8lCPnh55QfCs",
        "outputId": "99e42519-0977-4ae6-c291-8daf7a7b0441"
      },
      "outputs": [
        {
          "output_type": "execute_result",
          "data": {
            "text/plain": [
              "<sklearn.metrics._plot.roc_curve.RocCurveDisplay at 0x79e8f6efb1d0>"
            ]
          },
          "metadata": {},
          "execution_count": 18
        },
        {
          "output_type": "display_data",
          "data": {
            "text/plain": [
              "<Figure size 640x480 with 1 Axes>"
            ],
            "image/png": "[encoded data removed]"
          },
          "metadata": {}
        }
      ],
      "source": [
        "# final model evaluation\n",
        "finalModel = XGBClassifier(objective='binary:logistic', eval_metric='logloss', random_state=2025,\n",
        "                          max_depth = 9, min_child_weight = 9, subsample = 0.50, learning_rate = 0.09, n_estimators = 273)\n",
        "\n",
        "finalModel.fit(X, y)\n",
        "ypred = finalModel.predict(X)\n",
        "RocCurveDisplay.from_predictions(y, ypred)\n",
        ""
      ]
    },
    {
      "cell_type": "code",
      "execution_count": 19,
      "metadata": {
        "colab": {
          "base_uri": "https://localhost:8080/",
          "height": 541
        },
        "id": "krKK93iyQfCs",
        "outputId": "3298cd06-3ca4-4d7f-8432-9a308def98fa"
      },
      "outputs": [
        {
          "output_type": "stream",
          "name": "stdout",
          "text": [
            "Confusion Matrix\n",
            "[[2257  411]\n",
            " [ 524 1918]]\n"
          ]
        },
        {
          "output_type": "display_data",
          "data": {
            "text/plain": [
              "<Figure size 640x480 with 2 Axes>"
            ],
            "image/png": "[encoded data removed]"
          },
          "metadata": {}
        }
      ],
      "source": [
        "print(\"Confusion Matrix\")\n",
        "print(confusion_matrix(y, ypred))\n",
        "disp = ConfusionMatrixDisplay.from_predictions(y, ypred,\n",
        "                              display_labels =[\"Negative Return\",\"Positive Return\"],\n",
        "                                              cmap = plt.cm.Blues)\n",
        "plt.title(\"Confusion Matrix for Returns\")\n",
        "plt.xlabel(\"Predicted Return\")\n",
        "plt.ylabel(\"Actual Return\")\n",
        "plt.tight_layout()\n",
        "plt.show()"
      ]
    },
    {
      "cell_type": "code",
      "execution_count": 20,
      "metadata": {
        "colab": {
          "base_uri": "https://localhost:8080/"
        },
        "id": "LSuQeT3xQfCs",
        "outputId": "8cdec4db-b90b-47bf-f44b-60091e69f944"
      },
      "outputs": [
        {
          "output_type": "stream",
          "name": "stdout",
          "text": [
            "              precision    recall  f1-score   support\n",
            "\n",
            "           0       0.81      0.85      0.83      2668\n",
            "           1       0.82      0.79      0.80      2442\n",
            "\n",
            "   micro avg       0.82      0.82      0.82      5110\n",
            "   macro avg       0.82      0.82      0.82      5110\n",
            "weighted avg       0.82      0.82      0.82      5110\n",
            "\n"
          ]
        }
      ],
      "source": [
        "print(classification_report(y, ypred, labels = [\"0\",\"1\"]))"
      ]
    },
    {
      "cell_type": "markdown",
      "metadata": {
        "id": "fY5HdyLqQfCs"
      },
      "source": [
        "## References\n",
        "\n",
        "* [yfinance GitHub](https://github.com/ranaroussi/yfinance)\n",
        "* [yfinance Documentation](https://ranaroussi.github.io/yfinance/)\n",
        "* [Polars Online User Guide](https://docs.pola.rs/)\n",
        "* [Build Polars Database](https://www.pyquantnews.com/free-python-resources/build-stock-database-locally-with-polars)\n",
        "* [YouTube. Polars and Time Series: What It Can Do, and How to Overcome Any Limitation](https://www.youtube.com/watch?v=qz-zAHBz6Ks)\n",
        "* [Awesome Quant: Python for Quantiative Finance](https://wilsonfreitas.github.io/awesome-quant/)\n",
        "* [Cross-validation](https://scikit-learn.org/stable/modules/cross_validation.html)\n",
        "* [TimeSeriesSplit](https://scikit-learn.org/stable/modules/generated/sklearn.model_selection.TimeSeriesSplit.html)\n",
        "* [RandomizedSearchCV](https://scikit-learn.org/stable/modules/generated/sklearn.model_selection.RandomizedSearchCV.html)\n",
        "* [Hyperparameter Tuning](https://scikit-learn.org/stable/modules/grid_search.html#grid-search)\n",
        "* [Metrics and Scoring](https://scikit-learn.org/stable/modules/model_evaluation.html#scoring-parameter)\n",
        "* [Introduction to Boosted Trees](https://xgboost.readthedocs.io/en/latest/tutorials/model.html)\n",
        "* [XGBoost documentation](https://xgboost.readthedocs.io/en/latest/index.html)\n",
        "* [XGBoost in Python documentation](https://xgboost-clone.readthedocs.io/en/latest/python/python_intro.html)\n",
        "* [Auto-Sklearn for AutoML in an Scikit-Learn Environment](https://www.automl.org/automl-for-x/tabular-data/auto-sklearn/)."
      ]
    },
    {
      "cell_type": "code",
      "execution_count": null,
      "metadata": {
        "id": "89Zo0HI0QfCs"
      },
      "outputs": [],
      "source": []
    }
  ],
  "metadata": {
    "kernelspec": {
      "display_name": "Python 3 (ipykernel)",
      "language": "python",
      "name": "python3"
    },
    "language_info": {
      "codemirror_mode": {
        "name": "ipython",
        "version": 3
      },
      "file_extension": ".py",
      "mimetype": "text/x-python",
      "name": "python",
      "nbconvert_exporter": "python",
      "pygments_lexer": "ipython3",
      "version": "3.12.4"
    },
    "nbTranslate": {
      "displayLangs": [
        "*"
      ],
      "hotkey": "alt-t",
      "langInMainMenu": true,
      "sourceLang": "en",
      "targetLang": "fr",
      "useGoogleTranslate": true
    },
    "toc": {
      "base_numbering": 1,
      "nav_menu": {},
      "number_sections": true,
      "sideBar": true,
      "skip_h1_title": true,
      "title_cell": "Table of Contents",
      "title_sidebar": "Contents",
      "toc_cell": false,
      "toc_position": {
        "height": "calc(100% - 180px)",
        "left": "10px",
        "top": "150px",
        "width": "341.331543px"
      },
      "toc_section_display": true,
      "toc_window_display": false
    },
    "toc-autonumbering": false,
    "toc-showtags": false,
    "varInspector": {
      "cols": {
        "lenName": 16,
        "lenType": 16,
        "lenVar": 40
      },
      "kernels_config": {
        "python": {
          "delete_cmd_postfix": "",
          "delete_cmd_prefix": "del ",
          "library": "var_list.py",
          "varRefreshCmd": "print(var_dic_list())"
        },
        "r": {
          "delete_cmd_postfix": ") ",
          "delete_cmd_prefix": "rm(",
          "library": "var_list.r",
          "varRefreshCmd": "cat(var_dic_list()) "
        }
      },
      "types_to_exclude": [
        "module",
        "function",
        "builtin_function_or_method",
        "instance",
        "_Feature"
      ],
      "window_display": false
    },
    "colab": {
      "provenance": []
    }
  },
  "nbformat": 4,
  "nbformat_minor": 0
}